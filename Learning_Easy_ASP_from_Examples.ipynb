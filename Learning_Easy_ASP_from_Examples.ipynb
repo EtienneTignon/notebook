{
 "cells": [
  {
   "cell_type": "markdown",
   "metadata": {
    "id": "yWGTIPMXotxs"
   },
   "source": [
    "# **Exercise 1. Positive logic programs.**\n",
    "In the following exercises, you are given a pair of programs. You can see the stable model of the first program. Your task is to find the stable model of the second program. You should be able to do it by learning from the first program of the pair."
   ]
  },
  {
   "cell_type": "markdown",
   "metadata": {
    "id": "Ho57hy3em9Yi"
   },
   "source": [
    "#### **Exercise 1.1.**"
   ]
  },
  {
   "cell_type": "code",
   "execution_count": 4,
   "metadata": {
    "colab": {
     "base_uri": "https://localhost:8080/"
    },
    "id": "j_3LyCQFnE7K",
    "outputId": "8c702cbe-9240-41dd-a812-6349904b5255"
   },
   "outputs": [
    {
     "name": "stdout",
     "output_type": "stream",
     "text": [
      "a b\n",
      "SATISFIABLE\n"
     ]
    }
   ],
   "source": [
    "%%clingo -V0 0 \n",
    "a.\n",
    "b."
   ]
  },
  {
   "cell_type": "code",
   "execution_count": 6,
   "metadata": {
    "id": "tekDyDF_nJLf"
   },
   "outputs": [
    {
     "name": "stdout",
     "output_type": "stream",
     "text": [
      "a b c\n",
      "SATISFIABLE\n"
     ]
    }
   ],
   "source": [
    "%%clingo -V0 0 \n",
    "a.\n",
    "b.\n",
    "c."
   ]
  },
  {
   "cell_type": "markdown",
   "metadata": {
    "id": "2EPx4Jn6oRUc"
   },
   "source": [
    "#### **Exercise 1.2**"
   ]
  },
  {
   "cell_type": "code",
   "execution_count": 7,
   "metadata": {
    "colab": {
     "base_uri": "https://localhost:8080/"
    },
    "id": "rVsiBrQSofDj",
    "outputId": "0790a4c1-5359-4669-d912-24d790f74c61"
   },
   "outputs": [
    {
     "name": "stdout",
     "output_type": "stream",
     "text": [
      "a b\n",
      "SATISFIABLE\n"
     ]
    }
   ],
   "source": [
    "%%clingo -V0 0 \n",
    "a.\n",
    "b :- a."
   ]
  },
  {
   "cell_type": "code",
   "execution_count": 15,
   "metadata": {
    "id": "6ElK21vgok0e"
   },
   "outputs": [
    {
     "name": "stdout",
     "output_type": "stream",
     "text": [
      "a b c\n",
      "SATISFIABLE\n"
     ]
    }
   ],
   "source": [
    "%%clingo -V0 0 \n",
    "a.\n",
    "b :- a.\n",
    "c :- a."
   ]
  }
 ],
 "metadata": {
  "colab": {
   "collapsed_sections": [],
   "name": "Learning Easy ASP from Examples.ipynb",
   "provenance": [],
   "toc_visible": true
  },
  "kernelspec": {
   "display_name": "Python 3",
   "language": "python",
   "name": "python3"
  },
  "language_info": {
   "codemirror_mode": {
    "name": "ipython",
    "version": 3
   },
   "file_extension": ".py",
   "mimetype": "text/x-python",
   "name": "python",
   "nbconvert_exporter": "python",
   "pygments_lexer": "ipython3",
   "version": "3.8.5"
  }
 },
 "nbformat": 4,
 "nbformat_minor": 1
}
